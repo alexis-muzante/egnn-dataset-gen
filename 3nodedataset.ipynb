{
 "cells": [
  {
   "cell_type": "code",
   "execution_count": 1,
   "metadata": {},
   "outputs": [
    {
     "name": "stderr",
     "output_type": "stream",
     "text": [
      "/tmp/ipykernel_26290/3710004105.py:17: FutureWarning: The 'delim_whitespace' keyword in pd.read_csv is deprecated and will be removed in a future version. Use ``sep='\\s+'`` instead\n",
      "  rtable=pd.read_csv('results_3node/General-0.rt', names=col_Names, header=None,delim_whitespace=True)\n"
     ]
    }
   ],
   "source": [
    "import pandas as pd\n",
    "import numpy as np\n",
    "def parse_if_number(s):\n",
    "    try: return float(s)\n",
    "    except: return True if s==\"true\" else False if s==\"false\" else s if s else None\n",
    "\n",
    "def parse_ndarray(s):\n",
    "    return np.fromstring(s, sep=' ') if s else None\n",
    "routing = pd.read_csv('results_3node/routing.csv', converters = {\n",
    "    'attrvalue': parse_if_number,\n",
    "    'binedges': parse_ndarray,\n",
    "    'binvalues': parse_ndarray,\n",
    "    'vectime': parse_ndarray,\n",
    "    'vecvalue': parse_ndarray})\n",
    "\n",
    "col_Names=[\"type\", \"seq\", \"time\", \"host\",\"src_ip\",\"dst_ip\",\"next_hop\",\"interface\"]\n",
    "rtable=pd.read_csv('results_3node/General-0.rt', names=col_Names, header=None,delim_whitespace=True)\n",
    "\n",
    "\n"
   ]
  },
  {
   "cell_type": "code",
   "execution_count": 2,
   "metadata": {},
   "outputs": [
    {
     "name": "stdout",
     "output_type": "stream",
     "text": [
      "   type seq time                   host src_ip       dst_ip next_hop interface\n",
      "8    *I  #0   0s   TestNetwork.relay[0]  wlan0  145.236.0.1      NaN       NaN\n",
      "11   *I  #0   0s  TestNetwork.rxhost[0]  wlan0  145.236.0.2      NaN       NaN\n",
      "14   *I  #0   0s  TestNetwork.txhost[0]  wlan0  145.236.0.3      NaN       NaN\n"
     ]
    }
   ],
   "source": [
    "iptable=rtable[rtable.type==\"*I\"]\n",
    "rtable=rtable.drop(rtable[(rtable.next_hop==\"<unspec>\") | (rtable.type==\"*I\")].index)\n",
    "print(iptable)"
   ]
  },
  {
   "cell_type": "code",
   "execution_count": 4,
   "metadata": {},
   "outputs": [
    {
     "name": "stdout",
     "output_type": "stream",
     "text": [
      "1\n",
      "Index(['run', 'type', 'module', 'name', 'attrname', 'attrvalue', 'value',\n",
      "       'count', 'sumweights', 'mean', 'stddev', 'min', 'max', 'underflows',\n",
      "       'overflows', 'binedges', 'binvalues', 'vectime', 'vecvalue'],\n",
      "      dtype='object')\n"
     ]
    }
   ],
   "source": [
    "import torch\n",
    "from egnn_pytorch import EGNN\n",
    "import networkx as nx\n",
    "import matplotlib.pyplot as plt\n",
    "params = routing[routing.type=='param']\n",
    "config = routing[routing.type=='config']\n",
    "\n",
    "numrxhosts=int(config[config.attrname=='*.numRXHosts'].iloc[0].attrvalue)\n",
    "numtxhosts=int(config[config.attrname=='*.numTXHosts'].iloc[0].attrvalue)\n",
    "numrxtxhosts=int(config[config.attrname=='*.numRXTXHosts'].iloc[0].attrvalue)\n",
    "\n",
    "numrelays=int(config[config.attrname=='*.numRelays'].iloc[0].attrvalue)\n",
    "\n",
    "print(numrxhosts)\n",
    "print(routing.columns)"
   ]
  },
  {
   "cell_type": "code",
   "execution_count": null,
   "metadata": {},
   "outputs": [
    {
     "name": "stdout",
     "output_type": "stream",
     "text": [
      "TestNetwork.rxhost[0]\n",
      "[93.2557, 0.0114381]\n"
     ]
    },
    {
     "data": {
      "image/png": "[encoded data removed]",
      "text/plain": [
       "<Figure size 500x500 with 1 Axes>"
      ]
     },
     "metadata": {},
     "output_type": "display_data"
    }
   ],
   "source": [
    "# Create the graph and add nodes with positions\n",
    "G = nx.Graph()\n",
    "\n",
    "for nodeid in range(numrelays):\n",
    "    nodename=f'TestNetwork.relay[{nodeid}]'\n",
    "    mobility = params[(params.module==f'{nodename}.mobility')]\n",
    "    xpos=float(mobility[mobility.name=='initialX'].iloc[0].value[:-1])\n",
    "    ypos=float(mobility[mobility.name=='initialY'].iloc[0].value[:-1])\n",
    "    pos = [xpos,ypos]\n",
    "    ip= iptable[iptable.host==nodename].iloc[0].dst_ip\n",
    "    tt=[0,1,0]\n",
    "    G.add_node(ip, pos=pos,tt=tt,type='relay',ip=ip,name=nodename)\n",
    "\n",
    "for nodeid in range(numrxhosts):\n",
    "    nodename=f'TestNetwork.rxhost[{nodeid}]'\n",
    "    mobility = params[(params.module==f'{nodename}.mobility')]\n",
    "    xpos=float(mobility[mobility.name=='initialX'].iloc[0].value[:-1])\n",
    "    ypos=float(mobility[mobility.name=='initialY'].iloc[0].value[:-1])\n",
    "    pos = [xpos,ypos]\n",
    "    ip= iptable[iptable.host==nodename].iloc[0].dst_ip\n",
    "    tt=[0,0,1]\n",
    "    G.add_node(ip, pos=pos,tt=tt,type='rxhost',ip=ip,name=nodename)\n",
    "\n",
    "\n",
    "for nodeid in range(numtxhosts):\n",
    "    nodename=f'TestNetwork.txhost[{nodeid}]'\n",
    "    mobility = params[(params.module==f'{nodename}.mobility')]\n",
    "    xpos=float(mobility[mobility.name=='initialX'].iloc[0].value[:-1])\n",
    "    ypos=float(mobility[mobility.name=='initialY'].iloc[0].value[:-1])\n",
    "    pos = [xpos,ypos]\n",
    "    ip= iptable[iptable.host==nodename].iloc[0].dst_ip\n",
    "    tt=[1,0,0]\n",
    "    G.add_node(ip, pos=pos,tt=tt,type='rxhost',ip=ip,name=nodename)\n",
    "\n",
    "for nodeid in range(numrxtxhosts):\n",
    "    nodename=f'TestNetwork.rxtxhost[{nodeid}]'\n",
    "    mobility = params[(params.module==f'{nodename}.mobility')]\n",
    "    xpos=float(mobility[mobility.name=='initialX'].iloc[0].value[:-1])\n",
    "    ypos=float(mobility[mobility.name=='initialY'].iloc[0].value[:-1])\n",
    "    pos = [xpos,ypos]\n",
    "    ip= iptable[iptable.host==nodename].iloc[0].dst_ip\n",
    "    tt=[1,0,1]\n",
    "    G.add_node(ip, pos=pos,tt=tt,type='rxtxhost',ip=ip,name=nodename)\n",
    "\n",
    "\n",
    "\n",
    "\n",
    "for idx,route in rtable.iterrows():\n",
    "    src=route.src_ip\n",
    "    adjhost=route.next_hop\n",
    "    G.add_edge(src,adjhost)\n",
    "\n",
    "\n",
    "\n",
    "# Draw the graph\n",
    "plt.figure(figsize=(5, 5))\n",
    "pos = nx.get_node_attributes(G, 'pos')\n",
    "nx.draw(G, pos, node_size=300, with_labels=True, edge_color='lightblue')\n",
    "plt.title(\"Three-Node Network \")\n",
    "plt.show()\n"
   ]
  },
  {
   "cell_type": "code",
   "execution_count": 9,
   "metadata": {},
   "outputs": [
    {
     "name": "stdout",
     "output_type": "stream",
     "text": [
      "run                             General-0-20250402-00:11:43-143\n",
      "type                                                     vector\n",
      "module                             TestNetwork.rxhost[0].app[1]\n",
      "name                         packetReceived:vector(packetBytes)\n",
      "attrname                                                    NaN\n",
      "attrvalue                                                  None\n",
      "value                                                       NaN\n",
      "count                                                       NaN\n",
      "sumweights                                                  NaN\n",
      "mean                                                        NaN\n",
      "stddev                                                      NaN\n",
      "min                                                         NaN\n",
      "max                                                         NaN\n",
      "underflows                                                  NaN\n",
      "overflows                                                   NaN\n",
      "binedges                                                   None\n",
      "binvalues                                                  None\n",
      "vectime       [10.001167451709, 10.001876096913, 10.00258474...\n",
      "vecvalue      [1452.0, 1452.0, 1452.0, 1452.0, 1452.0, 1452....\n",
      "Name: 4639, dtype: object\n",
      "Number of matching rows: 19\n"
     ]
    },
    {
     "data": {
      "image/png": "[encoded data removed]",
      "text/plain": [
       "<Figure size 640x480 with 1 Axes>"
      ]
     },
     "metadata": {},
     "output_type": "display_data"
    },
    {
     "name": "stdout",
     "output_type": "stream",
     "text": [
      "run                             General-0-20250402-00:11:43-143\n",
      "type                                                     vector\n",
      "module                             TestNetwork.rxhost[0].app[1]\n",
      "name                         packetReceived:vector(packetBytes)\n",
      "attrname                                                    NaN\n",
      "attrvalue                                                  None\n",
      "value                                                       NaN\n",
      "count                                                       NaN\n",
      "sumweights                                                  NaN\n",
      "mean                                                        NaN\n",
      "stddev                                                      NaN\n",
      "min                                                         NaN\n",
      "max                                                         NaN\n",
      "underflows                                                  NaN\n",
      "overflows                                                   NaN\n",
      "binedges                                                   None\n",
      "binvalues                                                  None\n",
      "vectime       [10.001167451709, 10.001876096913, 10.00258474...\n",
      "vecvalue      [1452.0, 1452.0, 1452.0, 1452.0, 1452.0, 1452....\n",
      "Name: 4639, dtype: object\n"
     ]
    }
   ],
   "source": [
    "vectors = routing[routing.type=='vector']\n",
    "\n",
    "vec = vectors[(vectors.module=='TestNetwork.rxhost[0].app[1]')].iloc[0]# take some vector\n",
    "print(vec)\n",
    "print(\"Number of matching rows:\", len(vec))\n",
    "\n",
    "plt.plot(vec.vectime, vec.vecvalue, drawstyle='steps-post')\n",
    "plt.xlim(0,100)\n",
    "plt.show()\n",
    "print(vec)\n"
   ]
  },
  {
   "cell_type": "code",
   "execution_count": 10,
   "metadata": {},
   "outputs": [],
   "source": [
    "scalar = routing[routing.type=='scalar']\n",
    "sca = scalar[(scalar.module=='TestNetwork.rxhost[0].app[1]') & (scalar.name==\"packetReceived:sum(packetBytes)\")].iloc[0]\n",
    "traffic=int(sca.value)*8/90/1000/1000"
   ]
  },
  {
   "cell_type": "code",
   "execution_count": 11,
   "metadata": {},
   "outputs": [],
   "source": [
    "import torch\n",
    "import numpy as np\n",
    "import matplotlib.pyplot as plt\n",
    "# custom model\n",
    "from egnn_pytorch import *"
   ]
  },
  {
   "cell_type": "code",
   "execution_count": 14,
   "metadata": {},
   "outputs": [],
   "source": [
    "import torch\n",
    "import torch.nn as nn\n",
    "\n",
    "class EGNNWithReadout(nn.Module):\n",
    "    def __init__(self, egnn, input_dim, output_dim, hidden_dim=None, non_linear=True):\n",
    "        super().__init__()\n",
    "        self.egnn = egnn\n",
    "        \n",
    "        if hidden_dim is None:\n",
    "            hidden_dim = input_dim\n",
    "\n",
    "        self.readout = nn.Linear(input_dim, output_dim)\n",
    "    \n",
    "    def forward(self, feats, coors, edges=None, mask=None, adj_mat=None):\n",
    "        node_out, coors_out = self.egnn(feats, coors, edges, mask, adj_mat)\n",
    "        out = self.readout(node_out)\n",
    "        return out, coors_out\n"
   ]
  },
  {
   "cell_type": "code",
   "execution_count": 15,
   "metadata": {},
   "outputs": [],
   "source": [
    "egnn_netwro  = EGNN(dim = 3, edge_dim = 1,update_coors = False)\n",
    "\n",
    "#egnn_net = EGNN_Network(\n",
    "#        depth=1,\n",
    "#        dim=1,\n",
    "#        edge_dim = 1,\n",
    "#)\n",
    "egnn_net = EGNNWithReadout(egnn_netwro, input_dim=3,hidden_dim=6, output_dim=1)\n"
   ]
  },
  {
   "cell_type": "code",
   "execution_count": 16,
   "metadata": {},
   "outputs": [],
   "source": [
    "optimizer = torch.optim.Adam(egnn_net.parameters(), lr=1e-3)\n",
    "loss_fn = torch.nn.MSELoss()"
   ]
  },
  {
   "cell_type": "code",
   "execution_count": null,
   "metadata": {},
   "outputs": [
    {
     "name": "stdout",
     "output_type": "stream",
     "text": [
      "tensor([[[[0.],\n",
      "          [1.],\n",
      "          [0.]],\n",
      "\n",
      "         [[0.],\n",
      "          [0.],\n",
      "          [1.]],\n",
      "\n",
      "         [[1.],\n",
      "          [0.],\n",
      "          [0.]]]])\n",
      "tensor([[[1., 0., 0.],\n",
      "         [0., 1., 0.],\n",
      "         [0., 0., 1.]]])\n",
      "tensor([[[0.0000],\n",
      "         [0.0000],\n",
      "         [0.1080]]])\n",
      "coors shape:torch.Size([1, 3, 3])\n",
      "feats shape:torch.Size([1, 3, 3, 1])\n",
      "tensor([[0., 1., 1.],\n",
      "        [1., 0., 1.],\n",
      "        [1., 1., 0.]])\n",
      "torch.Size([1, 3, 3, 1])\n"
     ]
    },
    {
     "ename": "ValueError",
     "evalue": "too many values to unpack (expected 8)",
     "output_type": "error",
     "traceback": [
      "\u001b[0;31m---------------------------------------------------------------------------\u001b[0m",
      "\u001b[0;31mValueError\u001b[0m                                Traceback (most recent call last)",
      "Cell \u001b[0;32mIn[18], line 38\u001b[0m\n\u001b[1;32m     34\u001b[0m optimizer\u001b[38;5;241m.\u001b[39mzero_grad()\n\u001b[1;32m     36\u001b[0m \u001b[38;5;66;03m# Forward: pasar los datos por el EGNN_Network\u001b[39;00m\n\u001b[1;32m     37\u001b[0m \u001b[38;5;66;03m# Nota: si no se desean actualizar las coordenadas, la salida coors se ignora.\u001b[39;00m\n\u001b[0;32m---> 38\u001b[0m node_emb, coors_updated \u001b[38;5;241m=\u001b[39m \u001b[43megnn_net\u001b[49m\u001b[43m(\u001b[49m\u001b[43mfeats\u001b[49m\u001b[43m,\u001b[49m\u001b[43m \u001b[49m\u001b[43mcoors\u001b[49m\u001b[43m,\u001b[49m\u001b[43madj_mat\u001b[49m\u001b[38;5;241;43m=\u001b[39;49m\u001b[43madj\u001b[49m\u001b[43m,\u001b[49m\u001b[43medges\u001b[49m\u001b[38;5;241;43m=\u001b[39;49m\u001b[43medge_features\u001b[49m\u001b[43m)\u001b[49m\n\u001b[1;32m     39\u001b[0m \u001b[38;5;28mprint\u001b[39m(node_emb\u001b[38;5;241m.\u001b[39mshape)\n\u001b[1;32m     40\u001b[0m \u001b[38;5;28mprint\u001b[39m(target\u001b[38;5;241m.\u001b[39mshape)\n",
      "File \u001b[0;32m~/Documents/fing/tesis/SwarmNet/.venv/lib/python3.11/site-packages/torch/nn/modules/module.py:1736\u001b[0m, in \u001b[0;36mModule._wrapped_call_impl\u001b[0;34m(self, *args, **kwargs)\u001b[0m\n\u001b[1;32m   1734\u001b[0m     \u001b[38;5;28;01mreturn\u001b[39;00m \u001b[38;5;28mself\u001b[39m\u001b[38;5;241m.\u001b[39m_compiled_call_impl(\u001b[38;5;241m*\u001b[39margs, \u001b[38;5;241m*\u001b[39m\u001b[38;5;241m*\u001b[39mkwargs)  \u001b[38;5;66;03m# type: ignore[misc]\u001b[39;00m\n\u001b[1;32m   1735\u001b[0m \u001b[38;5;28;01melse\u001b[39;00m:\n\u001b[0;32m-> 1736\u001b[0m     \u001b[38;5;28;01mreturn\u001b[39;00m \u001b[38;5;28;43mself\u001b[39;49m\u001b[38;5;241;43m.\u001b[39;49m\u001b[43m_call_impl\u001b[49m\u001b[43m(\u001b[49m\u001b[38;5;241;43m*\u001b[39;49m\u001b[43margs\u001b[49m\u001b[43m,\u001b[49m\u001b[43m \u001b[49m\u001b[38;5;241;43m*\u001b[39;49m\u001b[38;5;241;43m*\u001b[39;49m\u001b[43mkwargs\u001b[49m\u001b[43m)\u001b[49m\n",
      "File \u001b[0;32m~/Documents/fing/tesis/SwarmNet/.venv/lib/python3.11/site-packages/torch/nn/modules/module.py:1747\u001b[0m, in \u001b[0;36mModule._call_impl\u001b[0;34m(self, *args, **kwargs)\u001b[0m\n\u001b[1;32m   1742\u001b[0m \u001b[38;5;66;03m# If we don't have any hooks, we want to skip the rest of the logic in\u001b[39;00m\n\u001b[1;32m   1743\u001b[0m \u001b[38;5;66;03m# this function, and just call forward.\u001b[39;00m\n\u001b[1;32m   1744\u001b[0m \u001b[38;5;28;01mif\u001b[39;00m \u001b[38;5;129;01mnot\u001b[39;00m (\u001b[38;5;28mself\u001b[39m\u001b[38;5;241m.\u001b[39m_backward_hooks \u001b[38;5;129;01mor\u001b[39;00m \u001b[38;5;28mself\u001b[39m\u001b[38;5;241m.\u001b[39m_backward_pre_hooks \u001b[38;5;129;01mor\u001b[39;00m \u001b[38;5;28mself\u001b[39m\u001b[38;5;241m.\u001b[39m_forward_hooks \u001b[38;5;129;01mor\u001b[39;00m \u001b[38;5;28mself\u001b[39m\u001b[38;5;241m.\u001b[39m_forward_pre_hooks\n\u001b[1;32m   1745\u001b[0m         \u001b[38;5;129;01mor\u001b[39;00m _global_backward_pre_hooks \u001b[38;5;129;01mor\u001b[39;00m _global_backward_hooks\n\u001b[1;32m   1746\u001b[0m         \u001b[38;5;129;01mor\u001b[39;00m _global_forward_hooks \u001b[38;5;129;01mor\u001b[39;00m _global_forward_pre_hooks):\n\u001b[0;32m-> 1747\u001b[0m     \u001b[38;5;28;01mreturn\u001b[39;00m \u001b[43mforward_call\u001b[49m\u001b[43m(\u001b[49m\u001b[38;5;241;43m*\u001b[39;49m\u001b[43margs\u001b[49m\u001b[43m,\u001b[49m\u001b[43m \u001b[49m\u001b[38;5;241;43m*\u001b[39;49m\u001b[38;5;241;43m*\u001b[39;49m\u001b[43mkwargs\u001b[49m\u001b[43m)\u001b[49m\n\u001b[1;32m   1749\u001b[0m result \u001b[38;5;241m=\u001b[39m \u001b[38;5;28;01mNone\u001b[39;00m\n\u001b[1;32m   1750\u001b[0m called_always_called_hooks \u001b[38;5;241m=\u001b[39m \u001b[38;5;28mset\u001b[39m()\n",
      "Cell \u001b[0;32mIn[14], line 15\u001b[0m, in \u001b[0;36mEGNNWithReadout.forward\u001b[0;34m(self, feats, coors, edges, mask, adj_mat)\u001b[0m\n\u001b[1;32m     14\u001b[0m \u001b[38;5;28;01mdef\u001b[39;00m \u001b[38;5;21mforward\u001b[39m(\u001b[38;5;28mself\u001b[39m, feats, coors, edges\u001b[38;5;241m=\u001b[39m\u001b[38;5;28;01mNone\u001b[39;00m, mask\u001b[38;5;241m=\u001b[39m\u001b[38;5;28;01mNone\u001b[39;00m, adj_mat\u001b[38;5;241m=\u001b[39m\u001b[38;5;28;01mNone\u001b[39;00m):\n\u001b[0;32m---> 15\u001b[0m     node_out, coors_out \u001b[38;5;241m=\u001b[39m \u001b[38;5;28;43mself\u001b[39;49m\u001b[38;5;241;43m.\u001b[39;49m\u001b[43megnn\u001b[49m\u001b[43m(\u001b[49m\u001b[43mfeats\u001b[49m\u001b[43m,\u001b[49m\u001b[43m \u001b[49m\u001b[43mcoors\u001b[49m\u001b[43m,\u001b[49m\u001b[43m \u001b[49m\u001b[43medges\u001b[49m\u001b[43m,\u001b[49m\u001b[43m \u001b[49m\u001b[43mmask\u001b[49m\u001b[43m,\u001b[49m\u001b[43m \u001b[49m\u001b[43madj_mat\u001b[49m\u001b[43m)\u001b[49m\n\u001b[1;32m     16\u001b[0m     out \u001b[38;5;241m=\u001b[39m \u001b[38;5;28mself\u001b[39m\u001b[38;5;241m.\u001b[39mreadout(node_out)\n\u001b[1;32m     17\u001b[0m     \u001b[38;5;28;01mreturn\u001b[39;00m out, coors_out\n",
      "File \u001b[0;32m~/Documents/fing/tesis/SwarmNet/.venv/lib/python3.11/site-packages/torch/nn/modules/module.py:1736\u001b[0m, in \u001b[0;36mModule._wrapped_call_impl\u001b[0;34m(self, *args, **kwargs)\u001b[0m\n\u001b[1;32m   1734\u001b[0m     \u001b[38;5;28;01mreturn\u001b[39;00m \u001b[38;5;28mself\u001b[39m\u001b[38;5;241m.\u001b[39m_compiled_call_impl(\u001b[38;5;241m*\u001b[39margs, \u001b[38;5;241m*\u001b[39m\u001b[38;5;241m*\u001b[39mkwargs)  \u001b[38;5;66;03m# type: ignore[misc]\u001b[39;00m\n\u001b[1;32m   1735\u001b[0m \u001b[38;5;28;01melse\u001b[39;00m:\n\u001b[0;32m-> 1736\u001b[0m     \u001b[38;5;28;01mreturn\u001b[39;00m \u001b[38;5;28;43mself\u001b[39;49m\u001b[38;5;241;43m.\u001b[39;49m\u001b[43m_call_impl\u001b[49m\u001b[43m(\u001b[49m\u001b[38;5;241;43m*\u001b[39;49m\u001b[43margs\u001b[49m\u001b[43m,\u001b[49m\u001b[43m \u001b[49m\u001b[38;5;241;43m*\u001b[39;49m\u001b[38;5;241;43m*\u001b[39;49m\u001b[43mkwargs\u001b[49m\u001b[43m)\u001b[49m\n",
      "File \u001b[0;32m~/Documents/fing/tesis/SwarmNet/.venv/lib/python3.11/site-packages/torch/nn/modules/module.py:1747\u001b[0m, in \u001b[0;36mModule._call_impl\u001b[0;34m(self, *args, **kwargs)\u001b[0m\n\u001b[1;32m   1742\u001b[0m \u001b[38;5;66;03m# If we don't have any hooks, we want to skip the rest of the logic in\u001b[39;00m\n\u001b[1;32m   1743\u001b[0m \u001b[38;5;66;03m# this function, and just call forward.\u001b[39;00m\n\u001b[1;32m   1744\u001b[0m \u001b[38;5;28;01mif\u001b[39;00m \u001b[38;5;129;01mnot\u001b[39;00m (\u001b[38;5;28mself\u001b[39m\u001b[38;5;241m.\u001b[39m_backward_hooks \u001b[38;5;129;01mor\u001b[39;00m \u001b[38;5;28mself\u001b[39m\u001b[38;5;241m.\u001b[39m_backward_pre_hooks \u001b[38;5;129;01mor\u001b[39;00m \u001b[38;5;28mself\u001b[39m\u001b[38;5;241m.\u001b[39m_forward_hooks \u001b[38;5;129;01mor\u001b[39;00m \u001b[38;5;28mself\u001b[39m\u001b[38;5;241m.\u001b[39m_forward_pre_hooks\n\u001b[1;32m   1745\u001b[0m         \u001b[38;5;129;01mor\u001b[39;00m _global_backward_pre_hooks \u001b[38;5;129;01mor\u001b[39;00m _global_backward_hooks\n\u001b[1;32m   1746\u001b[0m         \u001b[38;5;129;01mor\u001b[39;00m _global_forward_hooks \u001b[38;5;129;01mor\u001b[39;00m _global_forward_pre_hooks):\n\u001b[0;32m-> 1747\u001b[0m     \u001b[38;5;28;01mreturn\u001b[39;00m \u001b[43mforward_call\u001b[49m\u001b[43m(\u001b[49m\u001b[38;5;241;43m*\u001b[39;49m\u001b[43margs\u001b[49m\u001b[43m,\u001b[49m\u001b[43m \u001b[49m\u001b[38;5;241;43m*\u001b[39;49m\u001b[38;5;241;43m*\u001b[39;49m\u001b[43mkwargs\u001b[49m\u001b[43m)\u001b[49m\n\u001b[1;32m   1749\u001b[0m result \u001b[38;5;241m=\u001b[39m \u001b[38;5;28;01mNone\u001b[39;00m\n\u001b[1;32m   1750\u001b[0m called_always_called_hooks \u001b[38;5;241m=\u001b[39m \u001b[38;5;28mset\u001b[39m()\n",
      "File \u001b[0;32m~/Documents/fing/tesis/SwarmNet/.venv/lib/python3.11/site-packages/egnn_pytorch/egnn_pytorch.py:225\u001b[0m, in \u001b[0;36mEGNN.forward\u001b[0;34m(self, feats, coors, edges, mask, adj_mat)\u001b[0m\n\u001b[1;32m    224\u001b[0m \u001b[38;5;28;01mdef\u001b[39;00m \u001b[38;5;21mforward\u001b[39m(\u001b[38;5;28mself\u001b[39m, feats, coors, edges \u001b[38;5;241m=\u001b[39m \u001b[38;5;28;01mNone\u001b[39;00m, mask \u001b[38;5;241m=\u001b[39m \u001b[38;5;28;01mNone\u001b[39;00m, adj_mat \u001b[38;5;241m=\u001b[39m \u001b[38;5;28;01mNone\u001b[39;00m):\n\u001b[0;32m--> 225\u001b[0m     b, n, d, device, fourier_features, num_nearest, valid_radius, only_sparse_neighbors \u001b[38;5;241m=\u001b[39m \u001b[38;5;241m*\u001b[39mfeats\u001b[38;5;241m.\u001b[39mshape, feats\u001b[38;5;241m.\u001b[39mdevice, \u001b[38;5;28mself\u001b[39m\u001b[38;5;241m.\u001b[39mfourier_features, \u001b[38;5;28mself\u001b[39m\u001b[38;5;241m.\u001b[39mnum_nearest_neighbors, \u001b[38;5;28mself\u001b[39m\u001b[38;5;241m.\u001b[39mvalid_radius, \u001b[38;5;28mself\u001b[39m\u001b[38;5;241m.\u001b[39monly_sparse_neighbors\n\u001b[1;32m    227\u001b[0m     \u001b[38;5;28;01mif\u001b[39;00m exists(mask):\n\u001b[1;32m    228\u001b[0m         num_nodes \u001b[38;5;241m=\u001b[39m mask\u001b[38;5;241m.\u001b[39msum(dim \u001b[38;5;241m=\u001b[39m \u001b[38;5;241m-\u001b[39m\u001b[38;5;241m1\u001b[39m)\n",
      "\u001b[0;31mValueError\u001b[0m: too many values to unpack (expected 8)"
     ]
    }
   ],
   "source": [
    "\n",
    "feats = torch.tensor(list(nx.get_node_attributes(G, 'tt').values()), dtype=torch.float32).unsqueeze(0).unsqueeze(-1)\n",
    "print(feats.shape)\n",
    "featsart = torch.tensor(list([[1,0,0],[0,1,0],[0,0,1]]), dtype=torch.float32).unsqueeze(0)\n",
    "print(featsart.shape)\n",
    "#print(feats)\n",
    "coors = torch.tensor(list(pos.values()))\n",
    "zeros_col = torch.zeros(coors.shape[0], 1)\n",
    "coors_tensor = coors.squeeze(0) \n",
    "#print(coors_tensor)\n",
    "#diff = coors_tensor.unsqueeze(1) - coors_tensor.unsqueeze(0)\n",
    "#print(diff)\n",
    "#distances = torch.sqrt((diff ** 2).sum(dim=2))  # Shape: (num_nodes, num_nodes)\n",
    "#print(distances)\n",
    "target=torch.tensor([0,0,traffic/56]).unsqueeze(0).unsqueeze(-1) \n",
    "print(target)\n",
    "# Concatenate the zeros as a new column to your coordinates tensor\n",
    "coors = torch.cat([coors, zeros_col], dim=1).unsqueeze(0)\n",
    "\n",
    "# Concatenate the zeros as a new column to your coordinates tensor\n",
    "mat=nx.adjacency_matrix(G)\n",
    "print(f\"coors shape:{coors.shape}\")\n",
    "print(f\"feats shape:{feats.shape}\")\n",
    "\n",
    "adj=torch.tensor(mat.toarray(), dtype=torch.float32)\n",
    "edge_features = torch.ones(1,3,3,1)\n",
    "print(adj)\n",
    "\n",
    "print(edge_features.shape)\n",
    "\n",
    "num_epochs = 10000\n",
    "optimizer.zero_grad()\n",
    "for epoch in range(num_epochs):\n",
    "    egnn_net.train()\n",
    "    optimizer.zero_grad()\n",
    "\n",
    "    # Forward: pasar los datos por el EGNN_Network\n",
    "    # Nota: si no se desean actualizar las coordenadas, la salida coors se ignora.\n",
    "    node_emb, coors_updated = egnn_net(feats, coors,adj_mat=adj,edges=edge_features)\n",
    "    print(node_emb.shape)\n",
    "    print(target.shape)\n",
    "    # Compute the MSE loss between the predicted node embeddings and the target\n",
    "    loss = loss_fn(node_emb, target)\n",
    "    \n",
    "    # Backward pass: compute gradients\n",
    "    loss.backward()\n",
    "    \n",
    "    # Update model parameters\n",
    "    optimizer.step()\n",
    "    \n",
    "    # Print training progress\n",
    "    print(f\"Epoch {epoch}, Loss: {loss.item()}\")\n",
    "\n",
    "print(node_emb)\n",
    "\n"
   ]
  },
  {
   "cell_type": "code",
   "execution_count": 55,
   "metadata": {},
   "outputs": [
    {
     "name": "stdout",
     "output_type": "stream",
     "text": [
      "tensor([[[0.0000],\n",
      "         [0.0000],\n",
      "         [0.1440]]])\n",
      "tensor([[[-4.7684e-07],\n",
      "         [-8.6427e-07],\n",
      "         [ 1.4398e-01]]], grad_fn=<ViewBackward0>)\n"
     ]
    }
   ],
   "source": [
    "print(target)\n",
    "print(node_emb)"
   ]
  },
  {
   "cell_type": "code",
   "execution_count": null,
   "metadata": {},
   "outputs": [],
   "source": []
  },
  {
   "cell_type": "code",
   "execution_count": null,
   "metadata": {},
   "outputs": [],
   "source": []
  }
 ],
 "metadata": {
  "kernelspec": {
   "display_name": ".venv (3.11.2)",
   "language": "python",
   "name": "python3"
  },
  "language_info": {
   "codemirror_mode": {
    "name": "ipython",
    "version": 3
   },
   "file_extension": ".py",
   "mimetype": "text/x-python",
   "name": "python",
   "nbconvert_exporter": "python",
   "pygments_lexer": "ipython3",
   "version": "3.11.2"
  }
 },
 "nbformat": 4,
 "nbformat_minor": 2
}
